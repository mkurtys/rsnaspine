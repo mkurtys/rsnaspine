{
 "cells": [
  {
   "cell_type": "code",
   "execution_count": 4,
   "metadata": {},
   "outputs": [],
   "source": [
    "from spine.utils.heatmap import generate_world_mesh_coords, heatmap_3d_encoder\n",
    "from spine.spine_exam import SpineSeries, InstanceMeta\n",
    "import numpy as np\n",
    "import matplotlib.pyplot as plt\n",
    "import matplotlib\n",
    "%matplotlib inline\n",
    "\n",
    "\n",
    "instance_meta = [InstanceMeta(\n",
    "    instance_number=1,\n",
    "    rows=10,\n",
    "    cols=10,\n",
    "    position=np.array([0, 0, i]),\n",
    "    orientation=np.array([1, 0, 0, 0, 1, 0]),\n",
    "    normal=np.array([0, 0, 1]),\n",
    "    projection=np.array([1, 0, 0]),\n",
    "    pixel_spacing=np.array([1, 1]),\n",
    "    spacing_between_slices=1,\n",
    "    slice_thickness=1,\n",
    "    scale=1.0\n",
    ") for i in range(10)]\n",
    "\n",
    "series = SpineSeries(123, 345, \"test\", np.random.rand(10, 20, 20), \n",
    "                        meta=instance_meta, scale=1.0)"
   ]
  },
  {
   "cell_type": "code",
   "execution_count": 5,
   "metadata": {},
   "outputs": [
    {
     "name": "stdout",
     "output_type": "stream",
     "text": [
      "IOP  [[[0. 0. 0.]\n",
      "  [0. 1. 0.]\n",
      "  [0. 0. 1.]]]\n",
      "mesh shape  (10, 20, 20, 3)\n",
      "mesh shape  (10, 20, 20)\n",
      "gt_coords shape  (1, 3)\n"
     ]
    }
   ],
   "source": [
    "heatmaps = heatmap_3d_encoder(series,\n",
    "                                stride=(1, 1, 1),\n",
    "                                gt_coords=np.array([5, 10, 10]).reshape(1, 3),\n",
    "                                gt_classes=np.array([1]),\n",
    "                                sigma=1)"
   ]
  },
  {
   "cell_type": "code",
   "execution_count": 27,
   "metadata": {},
   "outputs": [
    {
     "data": {
      "text/plain": [
       "<matplotlib.image.AxesImage at 0x3192be250>"
      ]
     },
     "execution_count": 27,
     "metadata": {},
     "output_type": "execute_result"
    },
    {
     "data": {
      "image/png": "[encoded data removed]",
      "text/plain": [
       "<Figure size 640x480 with 1 Axes>"
      ]
     },
     "metadata": {},
     "output_type": "display_data"
    }
   ],
   "source": [
    "plt.imshow(heatmaps[0, 5, :, :], vmin=0, vmax=1)"
   ]
  },
  {
   "cell_type": "code",
   "execution_count": null,
   "metadata": {},
   "outputs": [],
   "source": []
  }
 ],
 "metadata": {
  "kernelspec": {
   "display_name": "torch",
   "language": "python",
   "name": "python3"
  },
  "language_info": {
   "codemirror_mode": {
    "name": "ipython",
    "version": 3
   },
   "file_extension": ".py",
   "mimetype": "text/x-python",
   "name": "python",
   "nbconvert_exporter": "python",
   "pygments_lexer": "ipython3",
   "version": "3.11.9"
  }
 },
 "nbformat": 4,
 "nbformat_minor": 2
}
